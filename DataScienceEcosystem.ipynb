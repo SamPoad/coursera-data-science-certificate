{
 "cells": [
  {
   "cell_type": "markdown",
   "id": "46f6ebe6-decb-4c02-9b7a-280cf359144a",
   "metadata": {},
   "source": [
    "<h1>Data Science Tools and Ecosystem"
   ]
  },
  {
   "cell_type": "markdown",
   "id": "879c7f56-e236-4f52-ae3b-23af48b3b616",
   "metadata": {},
   "source": [
    "<h2>Author</h2>  \n",
    "Sam Poad"
   ]
  },
  {
   "cell_type": "markdown",
   "id": "bd34f436-f446-4062-963b-94add3e6ed9b",
   "metadata": {},
   "source": [
    "In this notebook, Data Science Tools and Ecosystem are summarized. "
   ]
  },
  {
   "cell_type": "markdown",
   "id": "1e9bfc46-07a9-4874-a1f8-c8eef3370573",
   "metadata": {},
   "source": [
    "**Objectives:**  \n",
    "<ul>List popular languages for Data Science</ul>  \n",
    "<ul>List popular libraries for Data Science</ul>  \n",
    "<ul>List popular tools for Data Science</ul>  \n",
    "<ul>Show how Python can be used to evaluate arithmetic expressions</ul>"
   ]
  },
  {
   "cell_type": "markdown",
   "id": "e6bf841c-6c78-4055-af20-24f8463fea98",
   "metadata": {},
   "source": [
    "Some of the popular languages that Data Scientists use are:\n",
    "\n",
    "1. Python\n",
    "2. R\n",
    "3. Julia"
   ]
  },
  {
   "cell_type": "markdown",
   "id": "8efe11da-46ef-4618-ae9c-085d7289c771",
   "metadata": {},
   "source": [
    "Some of the commonly used libraries used by Data Scientists include:  \n",
    "1. Scikit-learn \n",
    "2. Numpy  \n",
    "3. Pandas "
   ]
  },
  {
   "cell_type": "markdown",
   "id": "516892be-b96f-4422-84ee-f4ec7bd7c8b5",
   "metadata": {},
   "source": [
    "| Data Science Tools |\n",
    "| --- | \n",
    "| Anaconda | \n",
    "| git | \n",
    "| RStudio | "
   ]
  },
  {
   "cell_type": "markdown",
   "id": "f2fdf48b-59cc-4d58-b9b5-c4d742321419",
   "metadata": {},
   "source": [
    "<h3>Below are a few examples of evaluating arithmetic expressions in Python</h3>"
   ]
  },
  {
   "cell_type": "code",
   "execution_count": 1,
   "id": "1b9ff2b6-cc70-45ff-92bd-64c5d67bf801",
   "metadata": {},
   "outputs": [
    {
     "data": {
      "text/plain": [
       "17"
      ]
     },
     "execution_count": 1,
     "metadata": {},
     "output_type": "execute_result"
    }
   ],
   "source": [
    "# This a simple arithmetic expression to mutiply then add integers\n",
    "(3 * 4) + 5"
   ]
  },
  {
   "cell_type": "code",
   "execution_count": 2,
   "id": "6402c531-376c-480d-9f0b-944189b3049f",
   "metadata": {},
   "outputs": [
    {
     "data": {
      "text/plain": [
       "3.3333333333333335"
      ]
     },
     "execution_count": 2,
     "metadata": {},
     "output_type": "execute_result"
    }
   ],
   "source": [
    "# This will convert 200 minutes to hours by diving by 60 \n",
    "200 / 60"
   ]
  }
 ],
 "metadata": {
  "kernelspec": {
   "display_name": "Python 3 (ipykernel)",
   "language": "python",
   "name": "python3"
  },
  "language_info": {
   "codemirror_mode": {
    "name": "ipython",
    "version": 3
   },
   "file_extension": ".py",
   "mimetype": "text/x-python",
   "name": "python",
   "nbconvert_exporter": "python",
   "pygments_lexer": "ipython3",
   "version": "3.11.3"
  }
 },
 "nbformat": 4,
 "nbformat_minor": 5
}
